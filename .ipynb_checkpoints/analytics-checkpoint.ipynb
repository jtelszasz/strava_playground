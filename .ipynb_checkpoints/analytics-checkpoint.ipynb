{
 "cells": [
  {
   "cell_type": "markdown",
   "metadata": {
    "collapsed": true
   },
   "source": [
    "# Analytics for Strava Web App"
   ]
  },
  {
   "cell_type": "code",
   "execution_count": 26,
   "metadata": {},
   "outputs": [],
   "source": [
    "import sqlite3\n",
    "import pandas as pd\n",
    "import config\n",
    "import app.analytics\n",
    "import app.models\n",
    "from datetime import datetime\n",
    "from app import db\n",
    "import matplotlib.pyplot as plt"
   ]
  },
  {
   "cell_type": "code",
   "execution_count": 2,
   "metadata": {},
   "outputs": [],
   "source": [
    "m_to_mi = 1 / 1609.344\n",
    "m_to_ft = 3.281\n",
    "ms_to_mph = 2.237"
   ]
  },
  {
   "cell_type": "code",
   "execution_count": 19,
   "metadata": {},
   "outputs": [],
   "source": [
    "activities_json = app.analytics.get_my_activities_json()\n",
    "\n",
    "for item in activities_json:\n",
    "    if db.session.query(app.models.Activity).filter_by(id=item[\"id\"]).scalar() is None:\n",
    "        act = app.models.Activity(\n",
    "            id = item[\"id\"],\n",
    "            distance = item[\"distance\"],\n",
    "            start_date = datetime.strptime(item[\"start_date_local\"],\n",
    "                                               '%Y-%m-%dT%H:%M:%SZ'),\n",
    "            bike = item[\"gear_id\"],\n",
    "            elapsed_time = item[\"elapsed_time\"],\n",
    "            moving_time = item[\"moving_time\"],\n",
    "            total_elev_gain = item[\"total_elevation_gain\"],\n",
    "            trainer = item[\"trainer\"],\n",
    "            max_speed = item[\"max_speed\"],\n",
    "            avg_speed = item[\"average_speed\"]\n",
    "            \n",
    "            )\n",
    "        db.session.add(act)\n",
    "\n",
    "db.session.commit()"
   ]
  },
  {
   "cell_type": "code",
   "execution_count": 20,
   "metadata": {},
   "outputs": [],
   "source": [
    "conn = sqlite3.connect(\"strava.db\")"
   ]
  },
  {
   "cell_type": "code",
   "execution_count": 50,
   "metadata": {},
   "outputs": [],
   "source": [
    "df = pd.read_sql_query(\"SELECT * FROM activity;\", conn)\n",
    "df[\"start_date\"] = pd.to_datetime(df[\"start_date\"])"
   ]
  },
  {
   "cell_type": "code",
   "execution_count": 51,
   "metadata": {},
   "outputs": [
    {
     "data": {
      "text/html": [
       "<div>\n",
       "<style scoped>\n",
       "    .dataframe tbody tr th:only-of-type {\n",
       "        vertical-align: middle;\n",
       "    }\n",
       "\n",
       "    .dataframe tbody tr th {\n",
       "        vertical-align: top;\n",
       "    }\n",
       "\n",
       "    .dataframe thead th {\n",
       "        text-align: right;\n",
       "    }\n",
       "</style>\n",
       "<table border=\"1\" class=\"dataframe\">\n",
       "  <thead>\n",
       "    <tr style=\"text-align: right;\">\n",
       "      <th></th>\n",
       "      <th>id</th>\n",
       "      <th>start_date</th>\n",
       "      <th>distance</th>\n",
       "      <th>bike</th>\n",
       "      <th>elapsed_time</th>\n",
       "      <th>moving_time</th>\n",
       "      <th>total_elev_gain</th>\n",
       "      <th>avg_speed</th>\n",
       "      <th>max_speed</th>\n",
       "      <th>trainer</th>\n",
       "    </tr>\n",
       "  </thead>\n",
       "  <tbody>\n",
       "    <tr>\n",
       "      <th>407</th>\n",
       "      <td>2080032431</td>\n",
       "      <td>2019-01-15 06:43:52</td>\n",
       "      <td>12448.3</td>\n",
       "      <td>b1113935</td>\n",
       "      <td>1791.0</td>\n",
       "      <td>1791.0</td>\n",
       "      <td>0.0</td>\n",
       "      <td>6.950</td>\n",
       "      <td>16.5</td>\n",
       "      <td>1</td>\n",
       "    </tr>\n",
       "    <tr>\n",
       "      <th>408</th>\n",
       "      <td>2082383215</td>\n",
       "      <td>2019-01-16 06:30:39</td>\n",
       "      <td>13133.5</td>\n",
       "      <td>b1113935</td>\n",
       "      <td>1854.0</td>\n",
       "      <td>1815.0</td>\n",
       "      <td>228.0</td>\n",
       "      <td>7.236</td>\n",
       "      <td>21.7</td>\n",
       "      <td>0</td>\n",
       "    </tr>\n",
       "    <tr>\n",
       "      <th>409</th>\n",
       "      <td>2084597564</td>\n",
       "      <td>2019-01-17 06:23:39</td>\n",
       "      <td>23979.2</td>\n",
       "      <td>b1113935</td>\n",
       "      <td>2580.0</td>\n",
       "      <td>2580.0</td>\n",
       "      <td>0.0</td>\n",
       "      <td>9.294</td>\n",
       "      <td>0.0</td>\n",
       "      <td>0</td>\n",
       "    </tr>\n",
       "    <tr>\n",
       "      <th>410</th>\n",
       "      <td>2089577376</td>\n",
       "      <td>2019-01-19 08:11:48</td>\n",
       "      <td>58025.0</td>\n",
       "      <td>b5483063</td>\n",
       "      <td>8884.0</td>\n",
       "      <td>8065.0</td>\n",
       "      <td>694.0</td>\n",
       "      <td>7.195</td>\n",
       "      <td>15.4</td>\n",
       "      <td>0</td>\n",
       "    </tr>\n",
       "    <tr>\n",
       "      <th>411</th>\n",
       "      <td>2091806427</td>\n",
       "      <td>2019-01-20 08:50:28</td>\n",
       "      <td>22389.5</td>\n",
       "      <td>b1113935</td>\n",
       "      <td>2493.0</td>\n",
       "      <td>2493.0</td>\n",
       "      <td>66.0</td>\n",
       "      <td>8.981</td>\n",
       "      <td>13.5</td>\n",
       "      <td>0</td>\n",
       "    </tr>\n",
       "  </tbody>\n",
       "</table>\n",
       "</div>"
      ],
      "text/plain": [
       "             id          start_date  distance      bike  elapsed_time  \\\n",
       "407  2080032431 2019-01-15 06:43:52   12448.3  b1113935        1791.0   \n",
       "408  2082383215 2019-01-16 06:30:39   13133.5  b1113935        1854.0   \n",
       "409  2084597564 2019-01-17 06:23:39   23979.2  b1113935        2580.0   \n",
       "410  2089577376 2019-01-19 08:11:48   58025.0  b5483063        8884.0   \n",
       "411  2091806427 2019-01-20 08:50:28   22389.5  b1113935        2493.0   \n",
       "\n",
       "     moving_time  total_elev_gain  avg_speed  max_speed  trainer  \n",
       "407       1791.0              0.0      6.950       16.5        1  \n",
       "408       1815.0            228.0      7.236       21.7        0  \n",
       "409       2580.0              0.0      9.294        0.0        0  \n",
       "410       8065.0            694.0      7.195       15.4        0  \n",
       "411       2493.0             66.0      8.981       13.5        0  "
      ]
     },
     "execution_count": 51,
     "metadata": {},
     "output_type": "execute_result"
    }
   ],
   "source": [
    "df.tail()"
   ]
  },
  {
   "cell_type": "code",
   "execution_count": 41,
   "metadata": {},
   "outputs": [
    {
     "data": {
      "text/plain": [
       "412"
      ]
     },
     "execution_count": 41,
     "metadata": {},
     "output_type": "execute_result"
    }
   ],
   "source": [
    "len(df)"
   ]
  },
  {
   "cell_type": "code",
   "execution_count": 42,
   "metadata": {},
   "outputs": [],
   "source": [
    "df[\"avg_speed\"] = df[\"avg_speed\"] * ms_to_mph\n",
    "df[\"max_speed\"] = df[\"max_speed\"] * ms_to_mph"
   ]
  },
  {
   "cell_type": "code",
   "execution_count": 43,
   "metadata": {},
   "outputs": [
    {
     "data": {
      "text/html": [
       "<div>\n",
       "<style scoped>\n",
       "    .dataframe tbody tr th:only-of-type {\n",
       "        vertical-align: middle;\n",
       "    }\n",
       "\n",
       "    .dataframe tbody tr th {\n",
       "        vertical-align: top;\n",
       "    }\n",
       "\n",
       "    .dataframe thead th {\n",
       "        text-align: right;\n",
       "    }\n",
       "</style>\n",
       "<table border=\"1\" class=\"dataframe\">\n",
       "  <thead>\n",
       "    <tr style=\"text-align: right;\">\n",
       "      <th></th>\n",
       "      <th>id</th>\n",
       "      <th>start_date</th>\n",
       "      <th>distance</th>\n",
       "      <th>bike</th>\n",
       "      <th>elapsed_time</th>\n",
       "      <th>moving_time</th>\n",
       "      <th>total_elev_gain</th>\n",
       "      <th>avg_speed</th>\n",
       "      <th>max_speed</th>\n",
       "      <th>trainer</th>\n",
       "    </tr>\n",
       "  </thead>\n",
       "  <tbody>\n",
       "    <tr>\n",
       "      <th>407</th>\n",
       "      <td>2080032431</td>\n",
       "      <td>2019-01-15 06:43:52</td>\n",
       "      <td>12448.3</td>\n",
       "      <td>b1113935</td>\n",
       "      <td>1791.0</td>\n",
       "      <td>1791.0</td>\n",
       "      <td>0.0</td>\n",
       "      <td>15.547150</td>\n",
       "      <td>36.9105</td>\n",
       "      <td>1</td>\n",
       "    </tr>\n",
       "    <tr>\n",
       "      <th>408</th>\n",
       "      <td>2082383215</td>\n",
       "      <td>2019-01-16 06:30:39</td>\n",
       "      <td>13133.5</td>\n",
       "      <td>b1113935</td>\n",
       "      <td>1854.0</td>\n",
       "      <td>1815.0</td>\n",
       "      <td>228.0</td>\n",
       "      <td>16.186932</td>\n",
       "      <td>48.5429</td>\n",
       "      <td>0</td>\n",
       "    </tr>\n",
       "    <tr>\n",
       "      <th>409</th>\n",
       "      <td>2084597564</td>\n",
       "      <td>2019-01-17 06:23:39</td>\n",
       "      <td>23979.2</td>\n",
       "      <td>b1113935</td>\n",
       "      <td>2580.0</td>\n",
       "      <td>2580.0</td>\n",
       "      <td>0.0</td>\n",
       "      <td>20.790678</td>\n",
       "      <td>0.0000</td>\n",
       "      <td>0</td>\n",
       "    </tr>\n",
       "    <tr>\n",
       "      <th>410</th>\n",
       "      <td>2089577376</td>\n",
       "      <td>2019-01-19 08:11:48</td>\n",
       "      <td>58025.0</td>\n",
       "      <td>b5483063</td>\n",
       "      <td>8884.0</td>\n",
       "      <td>8065.0</td>\n",
       "      <td>694.0</td>\n",
       "      <td>16.095215</td>\n",
       "      <td>34.4498</td>\n",
       "      <td>0</td>\n",
       "    </tr>\n",
       "    <tr>\n",
       "      <th>411</th>\n",
       "      <td>2091806427</td>\n",
       "      <td>2019-01-20 08:50:28</td>\n",
       "      <td>22389.5</td>\n",
       "      <td>b1113935</td>\n",
       "      <td>2493.0</td>\n",
       "      <td>2493.0</td>\n",
       "      <td>66.0</td>\n",
       "      <td>20.090497</td>\n",
       "      <td>30.1995</td>\n",
       "      <td>0</td>\n",
       "    </tr>\n",
       "  </tbody>\n",
       "</table>\n",
       "</div>"
      ],
      "text/plain": [
       "             id          start_date  distance      bike  elapsed_time  \\\n",
       "407  2080032431 2019-01-15 06:43:52   12448.3  b1113935        1791.0   \n",
       "408  2082383215 2019-01-16 06:30:39   13133.5  b1113935        1854.0   \n",
       "409  2084597564 2019-01-17 06:23:39   23979.2  b1113935        2580.0   \n",
       "410  2089577376 2019-01-19 08:11:48   58025.0  b5483063        8884.0   \n",
       "411  2091806427 2019-01-20 08:50:28   22389.5  b1113935        2493.0   \n",
       "\n",
       "     moving_time  total_elev_gain  avg_speed  max_speed  trainer  \n",
       "407       1791.0              0.0  15.547150    36.9105        1  \n",
       "408       1815.0            228.0  16.186932    48.5429        0  \n",
       "409       2580.0              0.0  20.790678     0.0000        0  \n",
       "410       8065.0            694.0  16.095215    34.4498        0  \n",
       "411       2493.0             66.0  20.090497    30.1995        0  "
      ]
     },
     "execution_count": 43,
     "metadata": {},
     "output_type": "execute_result"
    }
   ],
   "source": [
    "df.tail()"
   ]
  },
  {
   "cell_type": "code",
   "execution_count": 28,
   "metadata": {},
   "outputs": [
    {
     "data": {
      "text/plain": [
       "<matplotlib.collections.PathCollection at 0x115542f60>"
      ]
     },
     "execution_count": 28,
     "metadata": {},
     "output_type": "execute_result"
    },
    {
     "data": {
      "image/png": "[encoded data removed]",
      "text/plain": [
       "<Figure size 432x288 with 1 Axes>"
      ]
     },
     "metadata": {},
     "output_type": "display_data"
    }
   ],
   "source": [
    "fig = plt.figure()\n",
    "ax = fig.add_subplot(111)\n",
    "ax.plot()\n",
    "ax.scatter(df[\"avg_speed\"], df[\"max_speed\"])"
   ]
  },
  {
   "cell_type": "code",
   "execution_count": 71,
   "metadata": {},
   "outputs": [
    {
     "data": {
      "text/plain": [
       "260      18814.4\n",
       "261      54190.9\n",
       "262      92043.9\n",
       "263     124489.7\n",
       "264     156668.3\n",
       "265     191243.9\n",
       "266     229948.5\n",
       "267     263456.0\n",
       "268     270969.8\n",
       "269     312070.8\n",
       "270     348149.7\n",
       "271     356657.0\n",
       "272     364932.2\n",
       "273     376260.3\n",
       "274     384760.4\n",
       "275     430701.2\n",
       "276     438923.6\n",
       "277     452806.0\n",
       "278     464877.6\n",
       "279     473293.2\n",
       "280     514250.9\n",
       "281     563145.2\n",
       "282     571225.5\n",
       "283     580221.5\n",
       "284     623665.6\n",
       "285     674299.5\n",
       "286     687262.6\n",
       "287     699025.1\n",
       "288     707686.6\n",
       "289     751289.2\n",
       "         ...    \n",
       "382    3864685.6\n",
       "383    3906840.1\n",
       "384    3953224.4\n",
       "385    3964980.9\n",
       "386    3972556.0\n",
       "387    4010248.1\n",
       "388    4060364.2\n",
       "389    4092565.7\n",
       "390    4130294.1\n",
       "391    4184851.0\n",
       "392    4215980.8\n",
       "393    4261907.8\n",
       "394    4296550.6\n",
       "395    4314135.5\n",
       "396    4326650.1\n",
       "397    4351017.8\n",
       "398    4385572.2\n",
       "399    4431436.7\n",
       "400    4475042.6\n",
       "401      31075.4\n",
       "402      56736.0\n",
       "403     104935.5\n",
       "404     144842.8\n",
       "405     159692.4\n",
       "406     198065.9\n",
       "407     210514.2\n",
       "408     223647.7\n",
       "409     247626.9\n",
       "410     305651.9\n",
       "411     328041.4\n",
       "Name: distance, Length: 152, dtype: float64"
      ]
     },
     "execution_count": 71,
     "metadata": {},
     "output_type": "execute_result"
    }
   ],
   "source": [
    "# cumulative sums by year (just for this year and last)\n",
    "df[\"distance\"][df[\"start_date\"].dt.year.isin([2018, 2019])].groupby(df[\"start_date\"].dt.year).cumsum()"
   ]
  },
  {
   "cell_type": "code",
   "execution_count": null,
   "metadata": {},
   "outputs": [],
   "source": []
  },
  {
   "cell_type": "code",
   "execution_count": null,
   "metadata": {},
   "outputs": [],
   "source": []
  }
 ],
 "metadata": {
  "kernelspec": {
   "display_name": "Python 3",
   "language": "python",
   "name": "python3"
  },
  "language_info": {
   "codemirror_mode": {
    "name": "ipython",
    "version": 3
   },
   "file_extension": ".py",
   "mimetype": "text/x-python",
   "name": "python",
   "nbconvert_exporter": "python",
   "pygments_lexer": "ipython3",
   "version": "3.6.5"
  }
 },
 "nbformat": 4,
 "nbformat_minor": 1
}
